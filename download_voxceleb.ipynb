{
 "cells": [
  {
   "cell_type": "code",
   "execution_count": 1,
   "metadata": {},
   "outputs": [
    {
     "name": "stderr",
     "output_type": "stream",
     "text": [
      "/workspace/voxceleb_trainer/.venv/lib/python3.10/site-packages/tqdm/auto.py:21: TqdmWarning: IProgress not found. Please update jupyter and ipywidgets. See https://ipywidgets.readthedocs.io/en/stable/user_install.html\n",
      "  from .autonotebook import tqdm as notebook_tqdm\n"
     ]
    },
    {
     "name": "stdout",
     "output_type": "stream",
     "text": [
      "Downloading 18 vox2_dev files with 8 workers...\n",
      "Downloaded: vox2_data/vox2/vox2_dev_aac_partac\n",
      "Downloaded: vox2_data/vox2/vox2_dev_aac_partab\n",
      "Downloaded: vox2_data/vox2/vox2_dev_aac_partaf\n",
      "Downloaded: vox2_data/vox2/vox2_dev_aac_partad\n",
      "Downloaded: vox2_data/vox2/vox2_dev_aac_partah\n",
      "Downloaded: vox2_data/vox2/vox2_dev_aac_partag\n",
      "Downloaded: vox2_data/vox2/vox2_dev_aac_partae\n",
      "Downloaded: vox2_data/vox2/vox2_dev_aac_partaa\n",
      "Downloaded: vox2_data/vox2/vox2_dev_mp4_partad\n",
      "Downloaded: vox2_data/vox2/vox2_dev_mp4_partac\n",
      "Downloaded: vox2_data/vox2/vox2_dev_mp4_partae\n",
      "Downloaded: vox2_data/vox2/vox2_dev_mp4_partaa\n",
      "Downloaded: vox2_data/vox2/vox2_dev_txt.zip\n",
      "Downloaded: vox2_data/vox2/vox2_dev_mp4_partag\n",
      "Downloaded: vox2_data/vox2/vox2_dev_mp4_partaf\n",
      "Downloaded: vox2_data/vox2/vox2_dev_mp4_partai\n",
      "Downloaded: vox2_data/vox2/vox2_dev_mp4_partah\n",
      "Downloaded: vox2_data/vox2/vox2_dev_mp4_partab\n"
     ]
    }
   ],
   "source": [
    "from huggingface_hub import list_repo_files, hf_hub_download\n",
    "import concurrent.futures\n",
    "import os\n",
    "\n",
    "# List all files under vox2/vox2_dev_*\n",
    "files = list_repo_files(\n",
    "    repo_id=\"ProgramComputer/voxceleb\",\n",
    "    repo_type=\"dataset\",\n",
    ")\n",
    "\n",
    "# Filter for vox2_dev files\n",
    "files = [f for f in files if f.startswith(\"vox2/vox2_dev_\")]\n",
    "\n",
    "# Create the output directory if it doesn't exist\n",
    "os.makedirs(\"vox2_data\", exist_ok=True)\n",
    "\n",
    "# Function to download a single file\n",
    "def download_file(file_path):\n",
    "    try:\n",
    "        local = hf_hub_download(\n",
    "            repo_id=\"ProgramComputer/voxceleb\",\n",
    "            repo_type=\"dataset\",\n",
    "            filename=file_path,\n",
    "            local_dir=\"vox2_data\"\n",
    "        )\n",
    "        return f\"Downloaded: {local}\"\n",
    "    except Exception as e:\n",
    "        return f\"Error downloading {file_path}: {str(e)}\"\n",
    "\n",
    "# Download files in parallel using ThreadPoolExecutor\n",
    "print(f\"Downloading {len(files)} vox2_dev files with 8 workers...\")\n",
    "with concurrent.futures.ThreadPoolExecutor(max_workers=8) as executor:\n",
    "    future_to_file = {executor.submit(download_file, file_path): file_path for file_path in files}\n",
    "    \n",
    "    for future in concurrent.futures.as_completed(future_to_file):\n",
    "        file_path = future_to_file[future]\n",
    "        try:\n",
    "            result = future.result()\n",
    "            print(result)\n",
    "        except Exception as e:\n",
    "            print(f\"Exception for {file_path}: {e}\")\n"
   ]
  },
  {
   "cell_type": "code",
   "execution_count": null,
   "metadata": {},
   "outputs": [],
   "source": [
    "\n",
    "# 2. Download each one into a local folder\n",
    "for filepath in files:\n",
    "    local_path = hf_hub_download(\n",
    "        repo_id=\"ProgramComputer/voxceleb\",\n",
    "        repo_type=\"dataset\",\n",
    "        filename=filepath,\n",
    "        local_dir=\"voxceleb_data\"\n",
    "    )\n",
    "    print(\"Downloaded to:\", local_path)\n"
   ]
  }
 ],
 "metadata": {
  "kernelspec": {
   "display_name": ".venv",
   "language": "python",
   "name": "python3"
  },
  "language_info": {
   "codemirror_mode": {
    "name": "ipython",
    "version": 3
   },
   "file_extension": ".py",
   "mimetype": "text/x-python",
   "name": "python",
   "nbconvert_exporter": "python",
   "pygments_lexer": "ipython3",
   "version": "3.10.12"
  }
 },
 "nbformat": 4,
 "nbformat_minor": 2
}
